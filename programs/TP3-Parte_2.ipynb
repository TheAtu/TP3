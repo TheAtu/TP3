{
 "cells": [
  {
   "cell_type": "markdown",
   "metadata": {},
   "source": [
    "# Parte 2"
   ]
  },
  {
   "cell_type": "markdown",
   "metadata": {},
   "source": [
    "1. Escriban una función, llamada evalua metodo, que reciba como argumentos un modelo y los datos de entrenamiento y prueba (X train, y train, X test, y test). La función debe ajustar el modelo con los datos de entrenamiento y calcular las métricas que considere necesarias para esta problemática (de mínima, deben reportar la matriz de confusión, las curvas ROC y los valores de AUC y de accuracy score de cada método). El output de la función debe ser una colección con las métricas evaluadas."
   ]
  },
  {
   "cell_type": "code",
   "execution_count": null,
   "metadata": {},
   "outputs": [],
   "source": []
  },
  {
   "cell_type": "markdown",
   "metadata": {},
   "source": [
    "2. Escriban una función, llamada cross validation, que realice validación cru-\n",
    "zada con k iteraciones (k -fold CV), llamando a la función del inciso anterior en\n",
    "cada una, pero para las k distintas particiones. La función debe recibir como\n",
    "argumentos el modelo, el valor de k y un dataset (es decir, sólo X e y). Pueden\n",
    "ayudarse con la función KFold para generar las particiones necesarias.\n"
   ]
  },
  {
   "cell_type": "code",
   "execution_count": null,
   "metadata": {},
   "outputs": [],
   "source": []
  },
  {
   "cell_type": "markdown",
   "metadata": {},
   "source": [
    "3. Escriban una función, llamada evalua config que reciba una lista de configuraciones de hiperparámetros1 (los distintos valores a probar como hiper\n",
    "parámetros podrian codificarse en diccionarios de Python) y utilizando la función cross validation obtenga el error2 promedio para cada configuración.\n",
    "En scikit-learn, muchos métodos llaman penalty al método de regularización y C a la inversa\n",
    "del hiperparámetro λ.\n",
    "Utilicen la medición del error que prefieran. Una opción ser ́ıa el Error Cuadrático Medio.\n",
    "Finalmente, la función debe devolver la configuración que genere menor error3.\n"
   ]
  },
  {
   "cell_type": "code",
   "execution_count": null,
   "metadata": {},
   "outputs": [],
   "source": []
  },
  {
   "cell_type": "markdown",
   "metadata": {},
   "source": [
    "4. Escriban una función llamada evalua multiples metodos que les permita im-\n",
    "plementar los siguiente métodos con los hiperparámetros que ustedes elijan.\n",
    "Para la regresión log ́ıstica, asegúrense de que esta función utilice su función\n",
    "evalua config para optimizar el λ de la regularización. Finalmente, el output\n",
    "de la función debe ser una tabla donde las columnas sean las métricas que hayan\n",
    "evaluado (las que hayan incluido en la función evalua metodo) y las filas sean\n",
    "los modelos (con su configuración de hiperparámetros asociada) que hayan co-\n",
    "rrido. Asegúrense de que la tabla incluya una columna con nombre del modelo\n",
    "y el valor de los hiperparámetros/configuración:4\n",
    "Regresión log ́ıstica\n",
    "Análisis de discriminante lineal\n",
    "KNN"
   ]
  },
  {
   "cell_type": "code",
   "execution_count": null,
   "metadata": {},
   "outputs": [],
   "source": []
  }
 ],
 "metadata": {
  "language_info": {
   "name": "python"
  },
  "orig_nbformat": 4
 },
 "nbformat": 4,
 "nbformat_minor": 2
}
