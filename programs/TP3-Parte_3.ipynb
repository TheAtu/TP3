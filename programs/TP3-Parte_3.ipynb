{
 "cells": [
  {
   "cell_type": "markdown",
   "metadata": {},
   "source": [
    "# Parte 3"
   ]
  },
  {
   "cell_type": "markdown",
   "metadata": {},
   "source": [
    "1. Eliminen de ambas bases (respondieron, norespondieron) todas las variables\n",
    "relacionadas a ingresos (en el archivo Dise ̃no de bases y estructura ver las ca-\n",
    "tegor ́ıas: ingresos de la ocupaci ́on principal de los asalariados, ingresos de la\n",
    "ocupaci ́on principal, ingresos de otras ocupaciones, ingreso total individual, in-\n",
    "gresos no laborales, ingreso total familiar, ingreso per c ́apita familiar). Eliminen\n",
    "tambi ́en las columnas adulto equiv, ad equiv hogar e ingreso necesario.\n",
    "Establezcan a la variable pobre como su variable dependiente (vector y). El\n",
    "resto de las variables ser ́an las variables independientes (matriz X). Dependien-\n",
    "do de la funci ́on que usen, no se olviden de agregar la columna de 1 cuando sea\n",
    "necesario.\n"
   ]
  },
  {
   "cell_type": "markdown",
   "metadata": {},
   "source": [
    "2. Corran la funci ́on evalua multiples metodos con la base respondieron. En\n",
    "los pr ́oximos incisos profundizaremos en la tarea de regularizaci ́on, pero en este\n",
    "ejercicio prueben al menos un hiperpar ́ametro para regularizar y al menos un\n",
    "valor de λ.\n",
    "3Consejo: cuanto m ́as gen ́erica construyan la funci ́on, luego podr ́a ser utilizada en m ́as situacio-\n",
    "nes. Por ahora, la usaremos solo para buscar el λ  ́optimo cuando utilicemos regularizaci ́on.\n",
    "4Pista: para la regresi ́on log ́ıstica, cuando incluyan regularizaci ́on observen que deber ́an correr\n",
    "la funci ́on evalua metodo dos veces. Una para optimizar los hiperpar ́ametros (con un set de datos\n",
    "para train y otro para validaci ́on) y otra para obtener las m ́etricas con el hiperpar ́ametro  ́optimo\n",
    "(con un set de datos para train y otro para test)."
   ]
  },
  {
   "cell_type": "markdown",
   "metadata": {},
   "source": [
    "3. Expliquen c ́omo elegir ́ıan λ por validaci ́on cruzada. Detallen por qu ́e no usar ́ıan\n",
    "el conjunto de prueba (test) para su elecci ́on.\n"
   ]
  },
  {
   "cell_type": "markdown",
   "metadata": {},
   "source": [
    "4. En validaci ́on cruzada, ¿cu ́al es el problema de usar un k muy peque ̃no y uno\n",
    "muy grande? Cuando k = n (con n el n ́umero de muestras), ¿cu ́antas veces se\n",
    "estima el modelo?\n"
   ]
  },
  {
   "cell_type": "markdown",
   "metadata": {},
   "source": [
    "5. Realicen un barrido en λ = 10n con n ∈ {−5, −4, −3 . . . , +4, +5} y utilicen 10\n",
    "fold CV para elegir el λ  ́optimo en regresi ́on logistica con Ridge y con LASSO.\n",
    "¿Qu ́e λ seleccion ́o en cada caso? Generen box-plots mostrando la distribuci ́on\n",
    "del error de predicci ́on para cada λ. Cada box debe corresponder a un valor de λ\n",
    "y contener como observaciones el error medio de validaci ́on para cada partici ́on.\n",
    "Adem ́as, para la regularizaci ́on LASSO, genere un box-plot similar, pero ahora\n",
    "graficando la proporci ́on de variables ignoradas por el modelo en funci ́on de λ,\n",
    "es decir la proporci ́on de variables para las cuales el coeficiente asociado es cero.\n"
   ]
  },
  {
   "cell_type": "markdown",
   "metadata": {},
   "source": [
    "6. En el caso del valor  ́optimo de λ para LASSO encontrado en el inciso anterior,\n",
    "¿qu ́e variables fueron descartadas? ¿Son las que hubieran esperado? ¿Tiene re-\n",
    "laci ́on con lo que respondieron en el inciso 1 de la Parte I?\n"
   ]
  },
  {
   "cell_type": "markdown",
   "metadata": {},
   "source": [
    "7. Elijan alguno de los modelos de regresi ́on log ́ıstica donde hayan probado distin-\n",
    "tos parametros de regularizaci ́on y comenten: ¿Qu ́e m ́etodo de regularizaci ́on\n",
    "funcion ́o mejor Ridge o LASSO? Comenten mencionando el error cuadr ́atico\n",
    "medio (ECM).\n"
   ]
  },
  {
   "cell_type": "markdown",
   "metadata": {},
   "source": [
    "8. ¿Cu ́al de todos los m ́etodos evaluados predice mejor? ¿Con qu ́e hiperpar ́ame-\n",
    "tros? Justifiquen detalladamente utilizando las medidas de precisi ́on que cono-\n",
    "cen.\n"
   ]
  },
  {
   "cell_type": "markdown",
   "metadata": {},
   "source": [
    "9. Con el m ́etodo que seleccionaron, predigan qu ́e personas son pobres dentro de\n",
    "la base norespondieron. ¿Qu ́e proporci ́on de los hogares son pobres en esa\n",
    "submuestra?"
   ]
  }
 ],
 "metadata": {
  "language_info": {
   "name": "python"
  },
  "orig_nbformat": 4
 },
 "nbformat": 4,
 "nbformat_minor": 2
}
